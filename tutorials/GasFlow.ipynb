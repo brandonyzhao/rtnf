{
 "cells": [
  {
   "attachments": {},
   "cell_type": "markdown",
   "id": "fedd1ff2-50f7-4663-837f-2f61982d913e",
   "metadata": {},
   "source": [
    "# Rendering Images through Gas Flow volume"
   ]
  },
  {
   "cell_type": "code",
   "execution_count": null,
   "id": "3ccfa182-fd71-4733-8ec8-9826671218be",
   "metadata": {},
   "outputs": [],
   "source": [
    "from jax import numpy as jnp\n",
    "\n",
    "from plotly.offline import init_notebook_mode\n",
    "init_notebook_mode(connected=True) \n",
    "\n",
    "import os\n",
    "import sys\n",
    "\n",
    "sys.path.append('../')\n",
    "\n",
    "from rtnf.helpers import makedir, save_to_dir_np\n",
    "from rtnf.truefield import generate_emission, init_rays, plot_2d, plot_3d\n",
    "from rtnf.render import renderfn\n",
    "from rtnf.network import Grid2, get_X\n",
    "\n",
    "os.environ['CUDA_VISIBLE_DEVICES'] = '0'\n",
    "os.environ['XLA_PYTHON_CLIENT_PREALLOCATE'] = 'false'"
   ]
  },
  {
   "cell_type": "code",
   "execution_count": null,
   "id": "49bdf4bd-fbd6-451f-b507-02e1415ee8a6",
   "metadata": {},
   "outputs": [],
   "source": [
    "# resolution for generating IoR Field\n",
    "res_eta = 64\n",
    "eta_shape = (res_eta, res_eta, res_eta) \n",
    "# resolution for grid of light sources\n",
    "res_lum = 64 \n",
    "lum_shape = (res_lum, res_lum, res_lum)\n",
    "# resolution (number of rays) for ray tracing\n",
    "res = 64\n",
    "# FOV angle for sensor (determines distance from scene)\n",
    "fov_angle = 0.1\n",
    "\n",
    "X_eta = get_X(res_eta)\n",
    "X_lum = get_X(res_lum)\n",
    "\n",
    "seed_ls = 0 #Seed for light source generation\n",
    "\n",
    "save = False #Whether or not to save output\n",
    "\n",
    "save_dir = '../exp/gasflow/' #Directory for saving truefield output"
   ]
  },
  {
   "attachments": {},
   "cell_type": "markdown",
   "id": "58481794-c958-4667-b76d-49698aa97ebc",
   "metadata": {},
   "source": [
    "### Sample an IoR Field from a Gaussian Process"
   ]
  },
  {
   "cell_type": "code",
   "execution_count": null,
   "id": "a19c8dc6-f468-4592-bbaf-79c64af3588b",
   "metadata": {},
   "outputs": [],
   "source": [
    "grid_out = jnp.load('../data/fuel_injection_64.npy')\n",
    "eta_Grid = Grid2(grid_vals = grid_out, cval=1.0003)\n",
    "predict_eta = eta_Grid.interp5"
   ]
  },
  {
   "cell_type": "code",
   "execution_count": null,
   "id": "df9968ba-7333-439d-ab95-69e2c44d78b1",
   "metadata": {},
   "outputs": [],
   "source": [
    "%matplotlib widget\n",
    "\n",
    "# Visualize\n",
    "plot_3d(grid_out, res_eta)"
   ]
  },
  {
   "attachments": {},
   "cell_type": "markdown",
   "id": "6900fd89-b561-4e20-970c-f57bb8d767ce",
   "metadata": {
    "tags": []
   },
   "source": [
    "### Generate a dense light source field with Poisson Disk Sampling"
   ]
  },
  {
   "cell_type": "code",
   "execution_count": null,
   "id": "0d94da47-a181-49dc-9e46-8022b753517a",
   "metadata": {},
   "outputs": [],
   "source": [
    "# Generate Field\n",
    "lum_field, predict_lum_grid, ls = generate_emission('poisson', seed_ls, X_lum, lum_shape)"
   ]
  },
  {
   "cell_type": "code",
   "execution_count": null,
   "id": "ee84cdd7-66c1-4c34-afca-8f7233d9bf6d",
   "metadata": {},
   "outputs": [],
   "source": [
    "%matplotlib widget\n",
    "\n",
    "# Visualize\n",
    "plot_3d(lum_field, res_lum)"
   ]
  },
  {
   "attachments": {},
   "cell_type": "markdown",
   "id": "a3fe3667-be33-4d95-a040-1c9378876822",
   "metadata": {},
   "source": [
    "### Render a Refracted Image"
   ]
  },
  {
   "cell_type": "code",
   "execution_count": null,
   "id": "404f8d9c-02ba-4709-8f61-d38f8d15a20a",
   "metadata": {},
   "outputs": [],
   "source": [
    "# Initial Conditions\n",
    "rays = init_rays(fov_angle, res)\n",
    "s_vals = jnp.linspace(0, 1.2, 3)\n",
    "# Render the image\n",
    "ray_trace, ray_lum = renderfn(rays, predict_eta, predict_lum_grid, s_vals)"
   ]
  },
  {
   "cell_type": "code",
   "execution_count": null,
   "id": "4c1c4ced-c255-4623-8cf0-d815a5957413",
   "metadata": {},
   "outputs": [],
   "source": [
    "%matplotlib inline\n",
    "\n",
    "# Plot the image\n",
    "plot_2d(ray_lum.sum(1).reshape(res, res)[::-1, ::-1].T)"
   ]
  },
  {
   "attachments": {},
   "cell_type": "markdown",
   "id": "e8d7d282-da8e-44f5-8478-4431d2d6c6ad",
   "metadata": {},
   "source": [
    "### Save Output for Training"
   ]
  },
  {
   "cell_type": "code",
   "execution_count": null,
   "id": "2243fd2a-255d-4453-a777-8317b33a3cd8",
   "metadata": {},
   "outputs": [],
   "source": [
    "if save: \n",
    "    makedir(save_dir)\n",
    "    save_to_dir_np(save_dir, X_eta, rays, s_vals, lum_field, ray_lum, grid_out)"
   ]
  }
 ],
 "metadata": {
  "kernelspec": {
   "display_name": "Python 3 (ipykernel)",
   "language": "python",
   "name": "python3"
  },
  "language_info": {
   "codemirror_mode": {
    "name": "ipython",
    "version": 3
   },
   "file_extension": ".py",
   "mimetype": "text/x-python",
   "name": "python",
   "nbconvert_exporter": "python",
   "pygments_lexer": "ipython3",
   "version": "3.9.16"
  }
 },
 "nbformat": 4,
 "nbformat_minor": 5
}
