{
 "cells": [
  {
   "attachments": {},
   "cell_type": "markdown",
   "id": "9ad1c763-ef53-4637-af25-20a9ecbc349e",
   "metadata": {},
   "source": [
    "# Rendering images with different light source densities"
   ]
  },
  {
   "cell_type": "code",
   "execution_count": null,
   "id": "b08ae07e-2584-4a5f-b54d-459bebf30bf6",
   "metadata": {
    "tags": []
   },
   "outputs": [],
   "source": [
    "import jax\n",
    "from jax import numpy as jnp\n",
    "\n",
    "from plotly.offline import init_notebook_mode\n",
    "init_notebook_mode(connected=True) \n",
    "\n",
    "import os\n",
    "import pickle\n",
    "import sys\n",
    "\n",
    "sys.path.append('../')\n",
    "\n",
    "from rtnf.helpers import makedir, save_to_dir_np\n",
    "from rtnf.truefield import get_X, interp_grid, plot_3d, generate_emission, init_rays, plot_2d\n",
    "from rtnf.render import renderfn\n",
    "\n",
    "os.environ['CUDA_VISIBLE_DEVICES'] = '3' # Restrict to 1 GPU"
   ]
  },
  {
   "cell_type": "code",
   "execution_count": null,
   "id": "e04e6ff4-2550-4e13-94c0-66626f27dff6",
   "metadata": {
    "tags": []
   },
   "outputs": [],
   "source": [
    "# resolution for generating IoR Field\n",
    "res_eta = 16\n",
    "# resolution for grid of light sources\n",
    "res_lum = 64 \n",
    "# resolution (number of rays) for ray tracing\n",
    "res = 64\n",
    "# number of sources in light source field\n",
    "num_sources = 50\n",
    "# angle of sensor\n",
    "fov_angle = 0.1\n",
    "\n",
    "eta_shape = (res_eta, res_eta, res_eta) \n",
    "lum_shape = (res_lum, res_lum, res_lum)\n",
    "res_shape = (res, res)\n",
    "\n",
    "X_eta = get_X(res_eta)\n",
    "X_lum = get_X(res_lum)\n",
    "\n",
    "# Seed for IoR Field\n",
    "seed = 9\n",
    "rand_key = jax.random.PRNGKey(seed)\n",
    "\n",
    "# Seed for Light Sources\n",
    "seed_ls = 0\n",
    "\n",
    "save = True #Whether or not to save output\n",
    "save_dir = '../exp/src_density_%d/'%(num_sources) #Directory for saving truefield output"
   ]
  },
  {
   "attachments": {},
   "cell_type": "markdown",
   "id": "87d50a6d-95db-49f5-96a1-b17a1fa337e0",
   "metadata": {},
   "source": [
    "### Load IoR Field"
   ]
  },
  {
   "cell_type": "code",
   "execution_count": null,
   "id": "e7a2b96c-4390-4783-b653-b69038911ef3",
   "metadata": {
    "tags": []
   },
   "outputs": [],
   "source": [
    "# Load IoR Field\n",
    "\n",
    "grid_out = pickle.load(open('../data_paper/Multi_Gauss/s9/true_eta.p', 'rb'))\n",
    "predict_eta = interp_grid(grid_out, cval=1.)"
   ]
  },
  {
   "cell_type": "code",
   "execution_count": null,
   "id": "3ed78016-8fe4-4125-bed8-01a1b6d0652e",
   "metadata": {
    "tags": []
   },
   "outputs": [],
   "source": [
    "%matplotlib widget\n",
    "\n",
    "# visualize\n",
    "\n",
    "plot_3d(grid_out, res_eta)"
   ]
  },
  {
   "attachments": {},
   "cell_type": "markdown",
   "id": "a9f01d18-baba-41c0-90d5-4f08ee41d3f9",
   "metadata": {},
   "source": [
    "### Generate a light source field"
   ]
  },
  {
   "cell_type": "code",
   "execution_count": null,
   "id": "499d6fb3-6269-43a8-9e78-3d624a855a2b",
   "metadata": {
    "tags": []
   },
   "outputs": [],
   "source": [
    "# Generate Source Locations\n",
    "lum_field, predict_lum_grid, ls = generate_emission('uniform', seed_ls, X_lum, lum_shape, num_sources=num_sources)"
   ]
  },
  {
   "attachments": {},
   "cell_type": "markdown",
   "id": "b3d358f5-bcd3-4896-a9e0-af35e9e17d6b",
   "metadata": {},
   "source": [
    "### Visualize Light Sources"
   ]
  },
  {
   "cell_type": "code",
   "execution_count": null,
   "id": "ad518027-d201-478f-b4f5-2ccd82d269ba",
   "metadata": {
    "tags": []
   },
   "outputs": [],
   "source": [
    "%matplotlib widget\n",
    "\n",
    "# Visualize\n",
    "plot_3d(lum_field, res_lum)"
   ]
  },
  {
   "attachments": {},
   "cell_type": "markdown",
   "id": "016fdcff-c757-483b-879e-3eec5be222b3",
   "metadata": {},
   "source": [
    "### Generate Ray Initial Conditions from Sensor"
   ]
  },
  {
   "cell_type": "code",
   "execution_count": null,
   "id": "25802053-ae60-4e94-8473-80e9a770315e",
   "metadata": {},
   "outputs": [],
   "source": [
    "# Initial Conditions\n",
    "rays = init_rays(fov_angle, res)\n",
    "s_vals = jnp.linspace(0, 1.2, 3)\n",
    "# Render the image\n",
    "ray_trace, ray_lum = renderfn(rays, predict_eta, predict_lum_grid, s_vals)"
   ]
  },
  {
   "attachments": {},
   "cell_type": "markdown",
   "id": "e90fa8d2-8948-4121-aa94-9b43577ab4af",
   "metadata": {},
   "source": [
    "### Render a Refracted Image"
   ]
  },
  {
   "cell_type": "code",
   "execution_count": null,
   "id": "0be8444e-c4c3-43ae-8dfe-c17409ca76f7",
   "metadata": {},
   "outputs": [],
   "source": [
    "%matplotlib inline\n",
    "\n",
    "# Plot the image\n",
    "plot_2d(ray_lum.sum(1).reshape(res, res)[::-1, ::-1].T, title='Luminance Image (Refracted)')"
   ]
  },
  {
   "attachments": {},
   "cell_type": "markdown",
   "id": "324cbd4a-0e92-4400-9840-374ad1ebfe6c",
   "metadata": {},
   "source": [
    "### Save Output for Training"
   ]
  },
  {
   "cell_type": "code",
   "execution_count": null,
   "id": "921b4fe5-8fa4-4d1c-9882-aeb3ec973802",
   "metadata": {},
   "outputs": [],
   "source": [
    "if save: \n",
    "    makedir(save_dir)\n",
    "    save_to_dir_np(save_dir, X_eta, rays, s_vals, lum_field, ray_lum, grid_out)"
   ]
  }
 ],
 "metadata": {
  "kernelspec": {
   "display_name": "jax",
   "language": "python",
   "name": "python3"
  },
  "language_info": {
   "codemirror_mode": {
    "name": "ipython",
    "version": 3
   },
   "file_extension": ".py",
   "mimetype": "text/x-python",
   "name": "python",
   "nbconvert_exporter": "python",
   "pygments_lexer": "ipython3",
   "version": "3.9.16"
  }
 },
 "nbformat": 4,
 "nbformat_minor": 5
}
